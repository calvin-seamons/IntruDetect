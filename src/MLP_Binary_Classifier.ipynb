{
 "cells": [
  {
   "cell_type": "code",
   "execution_count": 1,
   "metadata": {},
   "outputs": [],
   "source": [
    "import pandas as pd\n",
    "\n",
    "training_df = pd.read_csv('../UNSW_NB15/UNSW_NB15_training-set.csv')\n",
    "testing_df = pd.read_csv('../UNSW_NB15/UNSW_NB15_testing-set.csv')"
   ]
  }
 ],
 "metadata": {
  "kernelspec": {
   "display_name": "474",
   "language": "python",
   "name": "python3"
  },
  "language_info": {
   "codemirror_mode": {
    "name": "ipython",
    "version": 3
   },
   "file_extension": ".py",
   "mimetype": "text/x-python",
   "name": "python",
   "nbconvert_exporter": "python",
   "pygments_lexer": "ipython3",
   "version": "3.11.7"
  },
  "orig_nbformat": 4
 },
 "nbformat": 4,
 "nbformat_minor": 2
}
